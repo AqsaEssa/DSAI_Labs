{
 "cells": [
  {
   "cell_type": "code",
   "execution_count": null,
   "id": "d47cbb60-b705-484e-acab-05971702e2f7",
   "metadata": {},
   "outputs": [],
   "source": [
    "●# Write a program that asks the user to enter two numbers, obtains the two numbers from the user and prints the sum, product, difference, quotient and remainder of the two numbers. "
   ]
  },
  {
   "cell_type": "code",
   "execution_count": 21,
   "id": "7533ccd5-f235-4c5f-b820-3dda8c8088b8",
   "metadata": {},
   "outputs": [
    {
     "name": "stdout",
     "output_type": "stream",
     "text": [
      "25\n",
      "100\n",
      "15\n",
      "4\n",
      "0\n"
     ]
    }
   ],
   "source": [
    "num1=20\n",
    "num2=5\n",
    "print(num1+num2)\n",
    "print(num1*num2)\n",
    "print(num1-num2)\n",
    "print(num1//num2)\n",
    "print(num1%num2)"
   ]
  },
  {
   "cell_type": "code",
   "execution_count": null,
   "id": "390c2ee3-0531-4b1c-a4da-e6d57b026fda",
   "metadata": {},
   "outputs": [],
   "source": [
    "# Write a program that reads in the radius of a circle and prints the circle’s diameter, circumference and area. Use the constant value 3.14159 for π. Perform each of these calculations inside the print statement()."
   ]
  },
  {
   "cell_type": "code",
   "execution_count": null,
   "id": "f42246d7-f355-4100-be36-b5467218da72",
   "metadata": {},
   "outputs": [],
   "source": [
    "import math"
   ]
  },
  {
   "cell_type": "code",
   "execution_count": 12,
   "id": "9ebd0d7e-fa04-441b-8ac9-4a87fe971e6a",
   "metadata": {},
   "outputs": [],
   "source": [
    "pi=3.14159"
   ]
  },
  {
   "cell_type": "code",
   "execution_count": 2,
   "id": "81307bf7-60b0-4897-a565-2dbe612038cb",
   "metadata": {},
   "outputs": [
    {
     "name": "stdin",
     "output_type": "stream",
     "text": [
      "Enter the radius of the circle: 9\n"
     ]
    }
   ],
   "source": [
    "radius= float(input(\"Enter the radius of the circle:\"))"
   ]
  },
  {
   "cell_type": "code",
   "execution_count": 7,
   "id": "e0873723-1acc-4f3d-a2c3-cdb955bdeb00",
   "metadata": {},
   "outputs": [
    {
     "name": "stdout",
     "output_type": "stream",
     "text": [
      "The diameter is 18\n"
     ]
    }
   ],
   "source": [
    "radius = 9\n",
    "print(f\"The diameter is {2 * radius}\")"
   ]
  },
  {
   "cell_type": "code",
   "execution_count": 18,
   "id": "9ca16cf1-f831-4ea7-bd1b-addbc0ada542",
   "metadata": {},
   "outputs": [
    {
     "name": "stdout",
     "output_type": "stream",
     "text": [
      "circumference is 56.548620\n"
     ]
    }
   ],
   "source": [
    "circumference = 2*pi*radius\n",
    "print(f\"circumference is {circumference:.6f}\")"
   ]
  },
  {
   "cell_type": "code",
   "execution_count": 28,
   "id": "2096b42b-db1b-48e2-9cfd-0d12e3ff408b",
   "metadata": {},
   "outputs": [
    {
     "name": "stdout",
     "output_type": "stream",
     "text": [
      "The Area is 254.468790\n"
     ]
    }
   ],
   "source": [
    "Area = pi*radius**2\n",
    "print(f\"The Area is {Area:.6f}\")"
   ]
  },
  {
   "cell_type": "code",
   "execution_count": null,
   "id": "87e6d44a-b316-4afd-8dc5-8853e0615378",
   "metadata": {},
   "outputs": [],
   "source": [
    "# Write a program that produces the following output using variables instead of hardcoding:\n",
    "\n",
    "HHHHHH\n",
    "   HHHHH\n",
    "         HHH\n",
    "            HH\n",
    "               H\n",
    "\n"
   ]
  },
  {
   "cell_type": "code",
   "execution_count": 3,
   "id": "13261faa-456c-47ce-8a47-b8ec7e642d12",
   "metadata": {},
   "outputs": [
    {
     "name": "stdout",
     "output_type": "stream",
     "text": [
      "HHHHH\n",
      "   HHHH\n",
      "      HHH\n",
      "         HH\n",
      "            H\n"
     ]
    }
   ],
   "source": [
    "height = 5  \n",
    "h_char = \"H\" \n",
    "for i in range(height):\n",
    "    spaces = \" \" * (i * 3)  \n",
    "    h_count = h_char * (height - i)  \n",
    "    print(spaces + h_count)"
   ]
  },
  {
   "cell_type": "code",
   "execution_count": null,
   "id": "db42dc6c-c18c-4aad-a099-32aae992395d",
   "metadata": {},
   "outputs": [],
   "source": [
    "# Write a program that reads an integer and determines and prints whether it is odd or even."
   ]
  },
  {
   "cell_type": "code",
   "execution_count": 1,
   "id": "6b82241b-3813-482c-86ca-94c69ef8458a",
   "metadata": {},
   "outputs": [
    {
     "name": "stdin",
     "output_type": "stream",
     "text": [
      "Enter an integer:  7\n"
     ]
    },
    {
     "name": "stdout",
     "output_type": "stream",
     "text": [
      "7 is odd.\n"
     ]
    }
   ],
   "source": [
    "number = int(input(\"Enter an integer: \"))\n",
    "if number % 2 == 0:\n",
    "    print(f\"{number} is even.\")\n",
    "else:\n",
    "    print(f\"{number} is odd.\")"
   ]
  },
  {
   "cell_type": "code",
   "execution_count": null,
   "id": "906bddcb-4b61-44fa-89eb-ef9e1ccbd9b2",
   "metadata": {},
   "outputs": [],
   "source": [
    "# Write a program that inputs three different integers from the keyboard, and then prints the smallest and the largest of these numbers. Use only the single-selection form of the if statement that you learned in the class. "
   ]
  },
  {
   "cell_type": "code",
   "execution_count": 3,
   "id": "2a16dde2-6b49-49cd-9aef-fecf0bf53654",
   "metadata": {},
   "outputs": [
    {
     "name": "stdin",
     "output_type": "stream",
     "text": [
      "Enter the first integer:  8\n",
      "Enter the second integer:  4\n",
      "Enter the third integer:  2\n"
     ]
    },
    {
     "name": "stdout",
     "output_type": "stream",
     "text": [
      "The smallest number is 2.\n",
      "The largest number is 8.\n"
     ]
    }
   ],
   "source": [
    "num1 = int(input(\"Enter the first integer: \"))\n",
    "num2 = int(input(\"Enter the second integer: \"))\n",
    "num3 = int(input(\"Enter the third integer: \"))\n",
    "smallest = num1\n",
    "largest = num1\n",
    "if num2 < smallest:\n",
    "    smallest = num2\n",
    "if num2 > largest:\n",
    "    largest = num2\n",
    "if num3 < smallest:\n",
    "    smallest = num3\n",
    "if num3 > largest:\n",
    "    largest = num3\n",
    "print(f\"The smallest number is {smallest}.\")\n",
    "print(f\"The largest number is {largest}.\")"
   ]
  },
  {
   "cell_type": "code",
   "execution_count": null,
   "id": "ad3d8d40-59d5-40c4-9789-c29059404c46",
   "metadata": {},
   "outputs": [],
   "source": [
    "# Which of the following expressions results in SyntaxErrors? Identify the syntax SyntaxErrors and type the reason of error along with the correct code by mentioning its sequence number.\n",
    "\n",
    "n.\t6 * -----------8\n",
    "o.\t8 = people\n",
    "p.\t((((4 ** 3))))\n",
    "q.\t(-(-(-(-5))))\n",
    "r.\t4 += 7 / 2\n"
   ]
  },
  {
   "cell_type": "code",
   "execution_count": null,
   "id": "e8c6f60f-f98f-4a1e-b43a-3b3d9011d7e2",
   "metadata": {},
   "outputs": [],
   "source": [
    "result_n = 6 * -----------8\n",
    "\n",
    "# o. Corrected code to avoid SyntaxError\n",
    "people = 8\n",
    "\n",
    "# p. No SyntaxError\n",
    "result_p = ((((4 ** 3))))\n",
    "\n",
    "# q. No SyntaxError\n",
    "result_q = (-(-(-(-5))))\n",
    "\n",
    "# r. Corrected code to avoid SyntaxError\n",
    "x = 4\n",
    "x += 7 / 2"
   ]
  },
  {
   "cell_type": "code",
   "execution_count": null,
   "id": "9388719c-75ee-4828-8af7-800c6f19c96e",
   "metadata": {},
   "outputs": [],
   "source": [
    "# using only the techniques you have learned so far, write a program that calculates the square and cube of the numbers from 0 to 10 and uses tabs to print the following table of values:\n",
    " \n"
   ]
  },
  {
   "cell_type": "code",
   "execution_count": 7,
   "id": "78269e14-35d9-4581-883a-ae058a1c2127",
   "metadata": {},
   "outputs": [
    {
     "name": "stdout",
     "output_type": "stream",
     "text": [
      "number\tsquare\tcube\n",
      "0\t0\t0\n",
      "1\t1\t1\n",
      "2\t4\t8\n",
      "3\t9\t27\n",
      "4\t16\t64\n",
      "5\t25\t125\n",
      "6\t36\t216\n",
      "7\t49\t343\n",
      "8\t64\t512\n",
      "9\t81\t729\n",
      "10\t100\t1000\n"
     ]
    }
   ],
   "source": [
    "print(\"number\\tsquare\\tcube\")\n",
    "\n",
    "for number in range(11):  # Loop from 0 to 10\n",
    "    square = number ** 2\n",
    "    cube = number ** 3\n",
    "    print(f\"{number}\\t{square}\\t{cube}\")\n"
   ]
  },
  {
   "cell_type": "code",
   "execution_count": null,
   "id": "629952c2-d3e4-42c6-b204-a2b44e778ae5",
   "metadata": {},
   "outputs": [],
   "source": [
    "# Write a program that assigns values to two variables and then swap their values."
   ]
  },
  {
   "cell_type": "code",
   "execution_count": 9,
   "id": "cf7a62b3-585c-4655-9458-031fff04c3af",
   "metadata": {},
   "outputs": [
    {
     "name": "stdout",
     "output_type": "stream",
     "text": [
      "Before swapping: a = 5, b = 10\n",
      "After swapping: a = 10, b = 5\n"
     ]
    }
   ],
   "source": [
    "a = 5\n",
    "b = 10\n",
    "print(f\"Before swapping: a = {a}, b = {b}\")\n",
    "temp = a\n",
    "a = b\n",
    "b = temp\n",
    "print(f\"After swapping: a = {a}, b = {b}\")\n"
   ]
  },
  {
   "cell_type": "code",
   "execution_count": null,
   "id": "08b64c6f-6136-4e51-9711-85059ed23a02",
   "metadata": {},
   "outputs": [],
   "source": [
    "# Write a program that inputs one five-digit number, generates its reverse and displays the reverse on screen.(Hint: Make use of the arithmetic operators modulus (%) and floor (// )"
   ]
  },
  {
   "cell_type": "code",
   "execution_count": 11,
   "id": "30f29307-6cc3-40c7-9d99-1d929423eb67",
   "metadata": {},
   "outputs": [
    {
     "name": "stdin",
     "output_type": "stream",
     "text": [
      "Enter a five-digit number:  14325\n"
     ]
    },
    {
     "name": "stdout",
     "output_type": "stream",
     "text": [
      "The reversed number is: 52341\n"
     ]
    }
   ],
   "source": [
    "# Input a five-digit number\n",
    "number = int(input(\"Enter a five-digit number: \"))\n",
    "\n",
    "# Initialize the variable to store the reversed number\n",
    "reverse_number = 0\n",
    "\n",
    "# Process each digit and build the reversed number\n",
    "reverse_number += (number % 10) * 10000  # Get the last digit and make it the first digit in reverse\n",
    "number //= 10                            # Remove the last digit\n",
    "\n",
    "reverse_number += (number % 10) * 1000   # Get the next digit and make it the second digit in reverse\n",
    "number //= 10                            # Remove the last digit\n",
    "\n",
    "reverse_number += (number % 10) * 100    # Get the next digit and make it the third digit in reverse\n",
    "number //= 10                            # Remove the last digit\n",
    "\n",
    "reverse_number += (number % 10) * 10     # Get the next digit and make it the fourth digit in reverse\n",
    "number //= 10                            # Remove the last digit\n",
    "\n",
    "reverse_number += number % 10            # The remaining digit is the first digit in reverse\n",
    "\n",
    "# Display the reversed number\n",
    "print(f\"The reversed number is: {reverse_number}\")\n"
   ]
  },
  {
   "cell_type": "code",
   "execution_count": null,
   "id": "99a4a739-c6f6-4b78-bc45-26c74819cfb9",
   "metadata": {},
   "outputs": [],
   "source": [
    "# Write a program that reads three nonzero integers and determines and prints if they could be the sides of a right triangle. (Hint : use Pythagoras theorem you learned in mathematics during FSC or matric , try different combinations of the same integers )\n",
    "\n"
   ]
  },
  {
   "cell_type": "code",
   "execution_count": 7,
   "id": "f2dae14f-ca5c-4d5f-a348-2c460e561cff",
   "metadata": {},
   "outputs": [
    {
     "name": "stdin",
     "output_type": "stream",
     "text": [
      "Enter the first nonzero integer:  7\n",
      "Enter the second nonzero integer:  5\n",
      "Enter the third nonzero integer:  9\n"
     ]
    },
    {
     "name": "stdout",
     "output_type": "stream",
     "text": [
      "The sides 7, 5, and 9 cannot form a right triangle.\n"
     ]
    }
   ],
   "source": [
    "def is_right_triangle(a, b, c):\n",
    "    # Sort the sides to ensure c is the largest\n",
    "    sides = sorted([a, b, c])\n",
    "    return sides[0]**2 + sides[1]**2 == sides[2]**2\n",
    "\n",
    "def main():\n",
    "    try:\n",
    "        # Read three nonzero integers from the user\n",
    "        a = int(input(\"Enter the first nonzero integer: \"))\n",
    "        b = int(input(\"Enter the second nonzero integer: \"))\n",
    "        c = int(input(\"Enter the third nonzero integer: \"))\n",
    "        \n",
    "        # Check if they can be the sides of a right triangle\n",
    "        if a != 0 and b != 0 and c != 0:\n",
    "            if is_right_triangle(a, b, c):\n",
    "                print(f\"The sides {a}, {b}, and {c} can form a right triangle.\")\n",
    "            else:\n",
    "                print(f\"The sides {a}, {b}, and {c} cannot form a right triangle.\")\n",
    "        else:\n",
    "            print(\"All integers must be nonzero.\")\n",
    "    except ValueError:\n",
    "        print(\"Invalid input. Please enter integer values.\")\n",
    "\n",
    "if __name__ == \"__main__\":\n",
    "    main()\n"
   ]
  },
  {
   "cell_type": "code",
   "execution_count": 9,
   "id": "9752d84c-79ec-4fcd-886d-aa6a94fe614f",
   "metadata": {},
   "outputs": [
    {
     "name": "stdin",
     "output_type": "stream",
     "text": [
      "Enter the first nonzero integer:  3\n",
      "Enter the second nonzero integer:  4\n",
      "Enter the third nonzero integer:  5\n"
     ]
    },
    {
     "name": "stdout",
     "output_type": "stream",
     "text": [
      "The sides 3, 4, and 5 can form a right triangle.\n"
     ]
    }
   ],
   "source": [
    "def is_right_triangle(a, b, c):\n",
    "    # Sort the sides to ensure c is the largest\n",
    "    sides = sorted([a, b, c])\n",
    "    return sides[0]**2 + sides[1]**2 == sides[2]**2\n",
    "\n",
    "def main():\n",
    "    try:\n",
    "        # Read three nonzero integers from the user\n",
    "        a = int(input(\"Enter the first nonzero integer: \"))\n",
    "        b = int(input(\"Enter the second nonzero integer: \"))\n",
    "        c = int(input(\"Enter the third nonzero integer: \"))\n",
    "        \n",
    "        # Check if they can be the sides of a right triangle\n",
    "        if a != 0 and b != 0 and c != 0:\n",
    "            if is_right_triangle(a, b, c):\n",
    "                print(f\"The sides {a}, {b}, and {c} can form a right triangle.\")\n",
    "            else:\n",
    "                print(f\"The sides {a}, {b}, and {c} cannot form a right triangle.\")\n",
    "        else:\n",
    "            print(\"All integers must be nonzero.\")\n",
    "    except ValueError:\n",
    "        print(\"Invalid input. Please enter integer values.\")\n",
    "\n",
    "if __name__ == \"__main__\":\n",
    "    main()\n"
   ]
  },
  {
   "cell_type": "code",
   "execution_count": null,
   "id": "2009fa8c-dafc-4791-9c94-8e4c67ab772c",
   "metadata": {},
   "outputs": [],
   "source": [
    "# Write a program to prompt for a score between 0.0 and 1.0. If the score is out of range, print an error message. If the score is between 0.0 and 1.0, print a grade using the following table:"
   ]
  },
  {
   "cell_type": "code",
   "execution_count": 26,
   "id": "e6c6d71e-f1d0-4dc4-b54f-facb6f72e116",
   "metadata": {},
   "outputs": [
    {
     "name": "stdin",
     "output_type": "stream",
     "text": [
      "Enter a score between 0.0 and 1.0:  0.9\n"
     ]
    },
    {
     "name": "stdout",
     "output_type": "stream",
     "text": [
      "Score: 0.9 -> Grade: A\n"
     ]
    }
   ],
   "source": [
    "def get_grade(score):\n",
    "    \"\"\"Returns the grade based on the score.\"\"\"\n",
    "    if 0.9 <= score <= 1.0:\n",
    "        return 'A'\n",
    "    elif 0.8 <= score < 0.9:\n",
    "        return 'B'\n",
    "    elif 0.7 <= score < 0.8:\n",
    "        return 'C'\n",
    "    elif 0.6 <= score < 0.7:\n",
    "        return 'D'\n",
    "    elif 0.0 <= score < 0.6:\n",
    "        return 'F'\n",
    "    else:\n",
    "        return None\n",
    "\n",
    "def main():\n",
    "    try:\n",
    "        score = float(input(\"Enter a score between 0.0 and 1.0: \"))\n",
    "        if 0.0 <= score <= 1.0:\n",
    "            grade = get_grade(score)\n",
    "            print(f\"Score: {score:.1f} -> Grade: {grade}\")\n",
    "        else:\n",
    "            print(\"Error: Score out of range. Please enter a score between 0.0 and 1.0.\")\n",
    "    except ValueError:\n",
    "        print(\"Invalid input. Please enter a numeric value.\")\n",
    "\n",
    "if __name__ == \"__main__\":\n",
    "    main()"
   ]
  },
  {
   "cell_type": "code",
   "execution_count": null,
   "id": "3b06bf0a-b361-4a57-bd72-f65b6d778ba9",
   "metadata": {},
   "outputs": [],
   "source": [
    "# Write a program that asks the user for an hour between 1 and 12, asks them to enter am or pm, and asks them how many hours into the future they want to go. Print out what the hour will be that many hours into the future, printing am or pm as appropriate. "
   ]
  },
  {
   "cell_type": "code",
   "execution_count": 30,
   "id": "6d9ab373-bc8c-4cf6-94b8-b93cb99d9fc3",
   "metadata": {},
   "outputs": [
    {
     "name": "stdin",
     "output_type": "stream",
     "text": [
      "Enter the hour (1-12):  6\n",
      "Enter AM or PM:  pm\n",
      "Enter the number of hours to advance:  3\n"
     ]
    },
    {
     "name": "stdout",
     "output_type": "stream",
     "text": [
      "The time 3 hours into the future will be 9 PM.\n"
     ]
    }
   ],
   "source": [
    "def calculate_future_time(hour, period, hours_to_advance):\n",
    "    \"\"\"Calculate the future time given the current hour, period (AM/PM), and hours to advance.\"\"\"\n",
    "    # Convert hour and period to a 24-hour format\n",
    "    if period.lower() == 'pm' and hour != 12:\n",
    "        hour += 12\n",
    "    elif period.lower() == 'am' and hour == 12:\n",
    "        hour = 0\n",
    "\n",
    "    # Calculate new hour in 24-hour format\n",
    "    future_hour_24 = (hour + hours_to_advance) % 24\n",
    "\n",
    "    # Convert back to 12-hour format\n",
    "    if future_hour_24 == 0:\n",
    "        future_hour = 12\n",
    "        future_period = 'AM'\n",
    "    elif future_hour_24 == 12:\n",
    "        future_hour = 12\n",
    "        future_period = 'PM'\n",
    "    elif future_hour_24 > 12:\n",
    "        future_hour = future_hour_24 - 12\n",
    "        future_period = 'PM'\n",
    "    else:\n",
    "        future_hour = future_hour_24\n",
    "        future_period = 'AM'\n",
    "\n",
    "    return future_hour, future_period\n",
    "\n",
    "def main():\n",
    "    try:\n",
    "        hour = int(input(\"Enter the hour (1-12): \"))\n",
    "        if hour < 1 or hour > 12:\n",
    "            raise ValueError(\"Hour must be between 1 and 12.\")\n",
    "\n",
    "        period = input(\"Enter AM or PM: \").strip().upper()\n",
    "        if period not in ['AM', 'PM']:\n",
    "            raise ValueError(\"Period must be 'AM' or 'PM'.\")\n",
    "\n",
    "        hours_to_advance = int(input(\"Enter the number of hours to advance: \"))\n",
    "        future_hour, future_period = calculate_future_time(hour, period, hours_to_advance)\n",
    "        print(f\"The time {hours_to_advance} hours into the future will be {future_hour} {future_period}.\")\n",
    "    except ValueError as e:\n",
    "        print(f\"Invalid input: {e}\")\n",
    "\n",
    "if __name__ == \"__main__\":\n",
    "    main()\n"
   ]
  },
  {
   "cell_type": "code",
   "execution_count": null,
   "id": "a17135e5-ace2-4485-b2b8-d4ea9591d9da",
   "metadata": {},
   "outputs": [],
   "source": [
    "# A palindrome is a number or a text phrase that reads the same backwards as forwards. For example, each of the following five-digit integers are palindromes: 12321, 55555, 45554 and 11611. Write a program that reads in a five-digit integer and determines whether or not it is a palindrome. "
   ]
  },
  {
   "cell_type": "code",
   "execution_count": 32,
   "id": "83d14747-26a4-4b1d-acef-34a3fc9349ca",
   "metadata": {},
   "outputs": [
    {
     "name": "stdin",
     "output_type": "stream",
     "text": [
      "Enter a five-digit integer:  34567\n"
     ]
    },
    {
     "name": "stdout",
     "output_type": "stream",
     "text": [
      "34567 is not a palindrome.\n"
     ]
    }
   ],
   "source": [
    "def is_palindrome(number):\n",
    "    \"\"\"Check if the given number is a palindrome.\"\"\"\n",
    "    num_str = str(number)\n",
    "    return num_str == num_str[::-1]\n",
    "\n",
    "def main():\n",
    "    try:\n",
    "        number = int(input(\"Enter a five-digit integer: \"))\n",
    "        if 10000 <= number <= 99999:\n",
    "            if is_palindrome(number):\n",
    "                print(f\"{number} is a palindrome.\")\n",
    "            else:\n",
    "                print(f\"{number} is not a palindrome.\")\n",
    "        else:\n",
    "            print(\"Error: The number must be a five-digit integer.\")\n",
    "    except ValueError:\n",
    "        print(\"Invalid input. Please enter a valid integer.\")\n",
    "\n",
    "if __name__ == \"__main__\":\n",
    "    main()\n"
   ]
  },
  {
   "cell_type": "code",
   "execution_count": 36,
   "id": "f19a4f14-2dce-477d-a8d6-244ccfd69410",
   "metadata": {},
   "outputs": [
    {
     "name": "stdin",
     "output_type": "stream",
     "text": [
      "Enter a five-digit integer:  18181\n"
     ]
    },
    {
     "name": "stdout",
     "output_type": "stream",
     "text": [
      "18181 is a palindrome.\n"
     ]
    }
   ],
   "source": [
    "def is_palindrome(number):\n",
    "    \"\"\"Check if the given number is a palindrome.\"\"\"\n",
    "    num_str = str(number)\n",
    "    return num_str == num_str[::-1]\n",
    "\n",
    "def main():\n",
    "    try:\n",
    "        number = int(input(\"Enter a five-digit integer: \"))\n",
    "        if 10000 <= number <= 99999:\n",
    "            if is_palindrome(number):\n",
    "                print(f\"{number} is a palindrome.\")\n",
    "            else:\n",
    "                print(f\"{number} is not a palindrome.\")\n",
    "        else:\n",
    "            print(\"Error: The number must be a five-digit integer.\")\n",
    "    except ValueError:\n",
    "        print(\"Invalid input. Please enter a valid integer.\")\n",
    "\n",
    "if __name__ == \"__main__\":\n",
    "    main()\n"
   ]
  }
 ],
 "metadata": {
  "kernelspec": {
   "display_name": "Python 3 (ipykernel)",
   "language": "python",
   "name": "python3"
  },
  "language_info": {
   "codemirror_mode": {
    "name": "ipython",
    "version": 3
   },
   "file_extension": ".py",
   "mimetype": "text/x-python",
   "name": "python",
   "nbconvert_exporter": "python",
   "pygments_lexer": "ipython3",
   "version": "3.12.4"
  }
 },
 "nbformat": 4,
 "nbformat_minor": 5
}
