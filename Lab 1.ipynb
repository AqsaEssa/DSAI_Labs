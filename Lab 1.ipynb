{
 "cells": [
  {
   "cell_type": "code",
   "execution_count": null,
   "id": "98a202e3-1a5c-4155-ab28-3087a11d532f",
   "metadata": {},
   "outputs": [],
   "source": [
    "1.\tWrite a program in jupyter notebook, that prints on screen the message Hello, World."
   ]
  },
  {
   "cell_type": "code",
   "execution_count": 1,
   "id": "98d9b02f-9549-4fa0-9dad-46aeefb8d1bb",
   "metadata": {},
   "outputs": [
    {
     "name": "stdout",
     "output_type": "stream",
     "text": [
      "Hello, World\n"
     ]
    }
   ],
   "source": [
    "print(\"Hello, World\")"
   ]
  },
  {
   "cell_type": "code",
   "execution_count": null,
   "id": "5d6be1d3-2fb1-4bba-a5ba-08610adbf8ea",
   "metadata": {},
   "outputs": [],
   "source": [
    "2.\tUsing the program in (1), what happens if we remove the closing quotation around the text Hello, World?"
   ]
  },
  {
   "cell_type": "code",
   "execution_count": 3,
   "id": "2bea92d2-615c-4f62-8439-102cbccd4e83",
   "metadata": {},
   "outputs": [
    {
     "ename": "SyntaxError",
     "evalue": "unterminated string literal (detected at line 1) (1715196109.py, line 1)",
     "output_type": "error",
     "traceback": [
      "\u001b[1;36m  Cell \u001b[1;32mIn[3], line 1\u001b[1;36m\u001b[0m\n\u001b[1;33m    print(\"Hello, World)\u001b[0m\n\u001b[1;37m          ^\u001b[0m\n\u001b[1;31mSyntaxError\u001b[0m\u001b[1;31m:\u001b[0m unterminated string literal (detected at line 1)\n"
     ]
    }
   ],
   "source": [
    "print(\"Hello, World)"
   ]
  },
  {
   "cell_type": "code",
   "execution_count": null,
   "id": "b1e144bc-6997-42c7-97a4-b45ed938338f",
   "metadata": {},
   "outputs": [],
   "source": [
    "3.\tUsing the program in (1), what happens if we remove both the quotations around the text Hello, World? How is it different from the behavior in (2)"
   ]
  },
  {
   "cell_type": "code",
   "execution_count": 5,
   "id": "a462caae-8520-4023-b1ae-a3d1010aa951",
   "metadata": {},
   "outputs": [
    {
     "ename": "NameError",
     "evalue": "name 'Hello' is not defined",
     "output_type": "error",
     "traceback": [
      "\u001b[1;31m---------------------------------------------------------------------------\u001b[0m",
      "\u001b[1;31mNameError\u001b[0m                                 Traceback (most recent call last)",
      "Cell \u001b[1;32mIn[5], line 1\u001b[0m\n\u001b[1;32m----> 1\u001b[0m \u001b[38;5;28mprint\u001b[39m(Hello, World)\n",
      "\u001b[1;31mNameError\u001b[0m: name 'Hello' is not defined"
     ]
    }
   ],
   "source": [
    "print(Hello, World)"
   ]
  },
  {
   "cell_type": "code",
   "execution_count": null,
   "id": "19fa8d9d-46f7-4268-be92-9f271bbd08b8",
   "metadata": {},
   "outputs": [],
   "source": [
    "Write a program using the print() command  that produces the following output:\n",
    "\n",
    "            *\n",
    "          **\n",
    "  ***\n",
    "          ****\n",
    "          *****"
   ]
  },
  {
   "cell_type": "code",
   "execution_count": 7,
   "id": "7c875dc3-ed15-4284-adf1-5a68bab0b88c",
   "metadata": {},
   "outputs": [
    {
     "name": "stdout",
     "output_type": "stream",
     "text": [
      "    *\n",
      "  **\n",
      "***\n",
      "  ****\n",
      "  *****\n"
     ]
    }
   ],
   "source": [
    "print(\"    *\")\n",
    "print(\"  **\")\n",
    "print(\"***\")\n",
    "print(\"  ****\")\n",
    "print(\"  *****\")"
   ]
  }
 ],
 "metadata": {
  "kernelspec": {
   "display_name": "Python 3 (ipykernel)",
   "language": "python",
   "name": "python3"
  },
  "language_info": {
   "codemirror_mode": {
    "name": "ipython",
    "version": 3
   },
   "file_extension": ".py",
   "mimetype": "text/x-python",
   "name": "python",
   "nbconvert_exporter": "python",
   "pygments_lexer": "ipython3",
   "version": "3.12.4"
  }
 },
 "nbformat": 4,
 "nbformat_minor": 5
}
