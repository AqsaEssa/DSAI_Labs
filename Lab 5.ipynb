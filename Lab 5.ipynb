{
 "cells": [
  {
   "cell_type": "code",
   "execution_count": null,
   "id": "ffee113b-8172-4c54-986c-d8bfeab7ca6a",
   "metadata": {},
   "outputs": [],
   "source": [
    "1.\tWrite a program that inputs a line of text. Output the text in uppercase letters and in lowercase letters using built-in functions."
   ]
  },
  {
   "cell_type": "code",
   "execution_count": 1,
   "id": "70b01b8c-c792-4a8e-9268-dacfad005cec",
   "metadata": {},
   "outputs": [
    {
     "name": "stdin",
     "output_type": "stream",
     "text": [
      "Enter a line of text:  A line with UPPER- and lower case LeTters\n"
     ]
    },
    {
     "name": "stdout",
     "output_type": "stream",
     "text": [
      "Uppercase: A LINE WITH UPPER- AND LOWER CASE LETTERS\n",
      "Lowercase: a line with upper- and lower case letters\n"
     ]
    }
   ],
   "source": [
    "text = input(\"Enter a line of text: \")\n",
    "\n",
    "uppercase_text = text.upper()\n",
    "\n",
    "lowercase_text = text.lower()\n",
    "\n",
    "print(\"Uppercase:\", uppercase_text)\n",
    "\n",
    "print(\"Lowercase:\", lowercase_text)"
   ]
  },
  {
   "cell_type": "code",
   "execution_count": null,
   "id": "87eaa8be-9f9a-4298-b0f5-72172b3d3d4e",
   "metadata": {},
   "outputs": [],
   "source": [
    "2.\tA simple way to estimate the number of words in a string is to count the number of spaces in the string.\n",
    "    Write a program that asks the user for a string and returns an estimate of how many words are in the string."
   ]
  },
  {
   "cell_type": "code",
   "execution_count": 3,
   "id": "7d58fb11-4b8b-4ad0-ab20-fd4a1f97f3fc",
   "metadata": {},
   "outputs": [
    {
     "name": "stdin",
     "output_type": "stream",
     "text": [
      "Enter a string:  Hello Aqsa\n"
     ]
    },
    {
     "name": "stdout",
     "output_type": "stream",
     "text": [
      "Estimated number of words: 2\n"
     ]
    }
   ],
   "source": [
    "text = input(\"Enter a string: \")\n",
    "\n",
    "space_count = text.count(' ')\n",
    "word_count = space_count + 1\n",
    "\n",
    "print(\"Estimated number of words:\", word_count)"
   ]
  },
  {
   "cell_type": "code",
   "execution_count": null,
   "id": "9bd70180-b1a6-4631-8691-a9da46e6b73a",
   "metadata": {},
   "outputs": [],
   "source": [
    "3.\tWrite a program that asks the user to enter a string s and then converts s to lowercase, \n",
    "    removes all the periods and commas from s, and prints the resulting string.\n",
    "    (Hint: use the split method)\n",
    "\n"
   ]
  },
  {
   "cell_type": "code",
   "execution_count": 5,
   "id": "822389cf-ce2b-4d43-861c-409efbf3fa74",
   "metadata": {},
   "outputs": [
    {
     "name": "stdin",
     "output_type": "stream",
     "text": [
      "Enter a string:  Hello Aqsa how are you?\n"
     ]
    },
    {
     "name": "stdout",
     "output_type": "stream",
     "text": [
      "Resulting string: hello aqsa how are you?\n"
     ]
    }
   ],
   "source": [
    "s = input(\"Enter a string: \")\n",
    "s_lower = s.lower()\n",
    "\n",
    "s_cleaned = s_lower.replace('.', '').replace(',', '')\n",
    "\n",
    "print(\"Resulting string:\", s_cleaned)"
   ]
  },
  {
   "cell_type": "code",
   "execution_count": null,
   "id": "93db3aa2-1207-43c0-b241-470ae2802c52",
   "metadata": {},
   "outputs": [],
   "source": [
    "4.\tA variable ids refers to the list [4353, 2314, 2956, 3382, 9362, 3900]. Using list methods, do the following:\n",
    "a.\tRemove 3382 from the list.\n",
    "b.\tGet the index of 9362.\n",
    "c.\tInsert 4499 in the list after 9362.\n",
    "d.\tExtend the list by adding [5566, 1830] to it.\n",
    "e.\tReverse the list.\n",
    "f.\tSort the list."
   ]
  },
  {
   "cell_type": "code",
   "execution_count": 7,
   "id": "da2ed83c-7cc3-485f-bee9-165338ed9754",
   "metadata": {},
   "outputs": [
    {
     "name": "stdout",
     "output_type": "stream",
     "text": [
      "Index of 9362: 3\n",
      "Final list: [1830, 2314, 2956, 3900, 4353, 4499, 5566, 9362]\n"
     ]
    }
   ],
   "source": [
    "ids = [4353, 2314, 2956, 3382, 9362, 3900]\n",
    "\n",
    "ids.remove(3382)\n",
    "\n",
    "index_of_9362 = ids.index(9362)\n",
    "print(\"Index of 9362:\", index_of_9362)\n",
    "\n",
    "ids.insert(index_of_9362 + 1, 4499)\n",
    "\n",
    "ids.extend([5566, 1830])\n",
    "\n",
    "ids.reverse()\n",
    "\n",
    "ids.sort()\n",
    "\n",
    "print(\"Final list:\", ids)"
   ]
  },
  {
   "cell_type": "code",
   "execution_count": null,
   "id": "1181640e-109f-4481-bc4e-a86f1edb87ec",
   "metadata": {},
   "outputs": [],
   "source": [
    "5.\tWhen playing games where you have to roll two dice, it is nice to know the odds of each roll. For instance, \n",
    "    the odds of rolling a 12 are about 3%, and the odds of rolling a 7 are about 17%. You can compute these mathematically, \n",
    "    but if you don’t know the math, you can write a program to do it. To do this, your program should simulate rolling two dice about 10,000 times and \n",
    "    compute and print out the percentage of rolls that come out to be 2, 3, 4, . . . , 12. \n",
    "    Print the results in a table format."
   ]
  },
  {
   "cell_type": "code",
   "execution_count": 9,
   "id": "78ce6840-2bc0-480a-9612-1eb4778b8ee1",
   "metadata": {},
   "outputs": [
    {
     "name": "stdout",
     "output_type": "stream",
     "text": [
      "Sum of Dice | Percentage\n",
      "-------------------------\n",
      "     2     |   2.74%\n",
      "     3     |   5.60%\n",
      "     4     |   8.66%\n",
      "     5     |   11.37%\n",
      "     6     |   13.51%\n",
      "     7     |   16.92%\n",
      "     8     |   13.62%\n",
      "     9     |   10.95%\n",
      "     10     |   8.39%\n",
      "     11     |   5.40%\n",
      "     12     |   2.84%\n"
     ]
    }
   ],
   "source": [
    "import random\n",
    "roll_frequencies = {total: 0 for total in range(2, 13)}\n",
    "num_rolls = 10000\n",
    "\n",
    "for _ in range(num_rolls):\n",
    "    die1 = random.randint(1, 6)\n",
    "    die2 = random.randint(1, 6)\n",
    "    roll_sum = die1 + die2\n",
    "    roll_frequencies[roll_sum] += 1\n",
    "\n",
    "print(\"Sum of Dice | Percentage\")\n",
    "print(\"-------------------------\")\n",
    "for total, frequency in roll_frequencies.items():\n",
    "    percentage = (frequency / num_rolls) * 100\n",
    "    print(f\"     {total}     |   {percentage:.2f}%\")"
   ]
  },
  {
   "cell_type": "code",
   "execution_count": null,
   "id": "1427edc7-1522-41e3-b199-51347eb86330",
   "metadata": {},
   "outputs": [],
   "source": [
    "6.\tWrite a function each for mean, median and mode that accepts a list as an argument. The mean, median, and mode functions return an integer.\n",
    "\n",
    "a.\tUsing these functions, write a program that generates a 99-element list of random numbers between 1 and 100 (inclusive) and computes its mean, \n",
    "    median, mode.\n",
    "\n"
   ]
  },
  {
   "cell_type": "code",
   "execution_count": 11,
   "id": "073e7412-b3d5-467f-9b7d-57047693110d",
   "metadata": {},
   "outputs": [],
   "source": [
    "import random\n",
    "from collections import Counter\n",
    "def mean(numbers):\n",
    "    return sum(numbers) // len(numbers)\n",
    "\n",
    "def median(numbers):\n",
    "    sorted_numbers = sorted(numbers)\n",
    "    n = len(sorted_numbers)\n",
    "    mid = n // 2\n",
    "\n",
    "    if n % 2 == 0:\n",
    "        return (sorted_numbers[mid - 1] + sorted_numbers[mid]) // 2\n",
    "    else:\n",
    "        return sorted_numbers[mid]\n",
    "\n",
    "def mode(numbers):\n",
    "    count = Counter(numbers)\n",
    "    max_count = max(count.values())\n",
    "    mode_list = [k for k, v in count.items() if v == max_count]\n",
    "    \n",
    "    return min(mode_list)"
   ]
  },
  {
   "cell_type": "code",
   "execution_count": 13,
   "id": "c6045f79-e5c7-47f5-9065-8fd35d753e74",
   "metadata": {},
   "outputs": [
    {
     "name": "stdout",
     "output_type": "stream",
     "text": [
      "List of random numbers: [85, 79, 7, 24, 50, 13, 1, 72, 86, 93, 57, 11, 2, 23, 20, 85, 80, 50, 39, 7, 86, 80, 76, 24, 46, 25, 62, 27, 97, 31, 93, 62, 51, 51, 65, 68, 81, 81, 52, 3, 83, 99, 31, 82, 55, 18, 68, 41, 39, 53, 14, 23, 63, 64, 11, 26, 82, 48, 27, 62, 48, 100, 61, 80, 78, 46, 95, 21, 26, 46, 11, 81, 77, 39, 2, 61, 70, 42, 89, 50, 22, 73, 45, 41, 18, 94, 69, 82, 37, 10, 42, 99, 25, 39, 20, 16, 54, 1, 68]\n",
      "\n",
      "Mean: 50\n",
      "Median: 50\n",
      "Mode: 39\n"
     ]
    }
   ],
   "source": [
    "random_numbers = [random.randint(1, 100) for _ in range(99)]\n",
    "\n",
    "mean_value = mean(random_numbers)\n",
    "median_value = median(random_numbers)\n",
    "mode_value = mode(random_numbers)\n",
    "\n",
    "print(\"List of random numbers:\", random_numbers)\n",
    "print(\"\\nMean:\", mean_value)\n",
    "print(\"Median:\", median_value)\n",
    "print(\"Mode:\", mode_value)"
   ]
  },
  {
   "cell_type": "code",
   "execution_count": null,
   "id": "0c872790-7fc9-4220-ac29-2ee34b5e0d8c",
   "metadata": {},
   "outputs": [],
   "source": [
    "7.\tWrite a program that rotates the elements of a list so that the element at the first index moves to the second index, \n",
    "    the element in the second index moves to the third index, etc., \n",
    "    and the element in the last index moves to the first index."
   ]
  },
  {
   "cell_type": "code",
   "execution_count": 15,
   "id": "9064de97-3f5f-4a48-b94f-c7cf1ffb8753",
   "metadata": {},
   "outputs": [
    {
     "name": "stdout",
     "output_type": "stream",
     "text": [
      "Original list: [1, 2, 3, 4, 5]\n",
      "Rotated list: [5, 1, 2, 3, 4]\n"
     ]
    }
   ],
   "source": [
    "def rotate_list(lst):\n",
    "    if lst:\n",
    "        rotated_list = [lst[-1]] + lst[:-1]\n",
    "        return rotated_list\n",
    "    return lst\n",
    "original_list = [1, 2, 3, 4, 5]\n",
    "rotated_list = rotate_list(original_list)\n",
    "\n",
    "print(\"Original list:\", original_list)\n",
    "print(\"Rotated list:\", rotated_list)"
   ]
  },
  {
   "cell_type": "code",
   "execution_count": null,
   "id": "96ec0f38-d456-4484-95e1-a4633ceec0ba",
   "metadata": {},
   "outputs": [],
   "source": [
    "8.\tWrite a program that generates 100 random integers that are either 0 or 1. \n",
    "    Then find the longest run of zeros, the largest number of zeros in a row. \n",
    "    For instance, the longest run of zeros in [1,0,1,1,0,0,0,0,1,0,0] is 4."
   ]
  },
  {
   "cell_type": "code",
   "execution_count": 17,
   "id": "efa57c73-d219-400b-a71f-e05290de38d9",
   "metadata": {},
   "outputs": [
    {
     "name": "stdout",
     "output_type": "stream",
     "text": [
      "Generated list: [1, 0, 0, 1, 1, 1, 1, 0, 1, 1, 0, 1, 0, 1, 0, 1, 1, 1, 0, 1, 0, 1, 0, 1, 0, 1, 1, 1, 1, 0, 1, 1, 0, 1, 0, 0, 0, 1, 0, 0, 1, 0, 0, 1, 1, 1, 0, 1, 0, 1, 0, 0, 0, 0, 1, 1, 1, 0, 0, 0, 0, 1, 1, 0, 0, 0, 0, 0, 0, 1, 0, 0, 0, 1, 1, 1, 1, 0, 0, 0, 0, 0, 1, 0, 0, 0, 1, 1, 1, 0, 0, 0, 1, 0, 1, 0, 0, 0, 0, 0]\n",
      "Longest run of zeros: 6\n"
     ]
    }
   ],
   "source": [
    "import random\n",
    "random_list = [random.randint(0, 1) for _ in range(100)]\n",
    "\n",
    "def longest_run_of_zeros(lst):\n",
    "    max_run = 0\n",
    "    current_run = 0\n",
    "\n",
    "    for number in lst:\n",
    "        if number == 0:\n",
    "            current_run += 1\n",
    "            if current_run > max_run:\n",
    "                max_run = current_run\n",
    "        else:\n",
    "            current_run = 0\n",
    "\n",
    "    return max_run\n",
    "\n",
    "longest_run = longest_run_of_zeros(random_list)\n",
    "\n",
    "print(\"Generated list:\", random_list)\n",
    "print(\"Longest run of zeros:\", longest_run)"
   ]
  },
  {
   "cell_type": "code",
   "execution_count": null,
   "id": "54dc60e4-b584-4849-898c-3ce04761bfff",
   "metadata": {},
   "outputs": [],
   "source": [
    "9.\tRead the size of the matrix from the user. \n",
    "    Populate it with data from the user. Print the original ,transpose  and  product of the matrices on the screen."
   ]
  },
  {
   "cell_type": "code",
   "execution_count": null,
   "id": "a5a5a0dc-dc99-4a60-bc87-e3ad1acfb759",
   "metadata": {},
   "outputs": [],
   "source": [
    "import numpy as np\n",
    "\n",
    "def read_matrix(rows, cols):\n",
    "    matrix = []\n",
    "    print(f\"Enter the elements of a {rows}x{cols} matrix row by row:\")\n",
    "    for i in range(rows):\n",
    "        row = list(map(int, input().split()))\n",
    "        if len(row) != cols:\n",
    "            print(f\"Please enter exactly {cols} elements.\")\n",
    "            return read_matrix(rows, cols)\n",
    "        matrix.append(row)\n",
    "    return np.array(matrix)\n",
    "\n",
    "def print_matrix(matrix, name):\n",
    "    print(f\"\\n{name}:\")\n",
    "    for row in matrix:\n",
    "        print(\" \".join(map(str, row)))\n",
    "\n",
    "rows = int(input(\"Enter the number of rows: \"))\n",
    "cols = int(input(\"Enter the number of columns: \"))\n",
    "\n",
    "original_matrix = read_matrix(rows, cols)\n",
    "\n",
    "transpose_matrix = np.transpose(original_matrix)\n",
    "\n",
    "product_matrix = np.dot(original_matrix, transpose_matrix)\n",
    "\n",
    "print_matrix(original_matrix, \"Original Matrix\")\n",
    "\n",
    "print_matrix(transpose_matrix, \"Transpose Matrix\")\n",
    "\n",
    "print_matrix(product_matrix, \"Product Matrix\")"
   ]
  }
 ],
 "metadata": {
  "kernelspec": {
   "display_name": "Python 3 (ipykernel)",
   "language": "python",
   "name": "python3"
  },
  "language_info": {
   "codemirror_mode": {
    "name": "ipython",
    "version": 3
   },
   "file_extension": ".py",
   "mimetype": "text/x-python",
   "name": "python",
   "nbconvert_exporter": "python",
   "pygments_lexer": "ipython3",
   "version": "3.12.4"
  }
 },
 "nbformat": 4,
 "nbformat_minor": 5
}
