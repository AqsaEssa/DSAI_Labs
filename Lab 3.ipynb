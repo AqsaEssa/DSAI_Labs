{
 "cells": [
  {
   "cell_type": "code",
   "execution_count": null,
   "id": "882cca83-0b7b-4ad3-8264-4d6852cadbb1",
   "metadata": {},
   "outputs": [],
   "source": [
    "# Task 1: Write a program that asks the user about the number of values he/she wants to enter. Than\n",
    "enter the values as per the required number, calculate its sum and identify the smallest value among\n",
    "them. The sample output is as follow:\n",
    "Enter the number of values to be input: 5\n",
    "Enter the number: 20\n",
    "Enter the number: 10\n",
    "Enter the number: 50\n",
    "Enter the number: 4\n",
    "Enter the number: 65\n",
    "The sum is: 149\n",
    "The smallest value of entered numbers is 4"
   ]
  },
  {
   "cell_type": "code",
   "execution_count": 1,
   "id": "82628267-3fbf-4a1d-9fe1-7b3e3b607a79",
   "metadata": {},
   "outputs": [
    {
     "name": "stdin",
     "output_type": "stream",
     "text": [
      "Enter the number of values to be input:  5\n",
      "Enter the number:  20\n",
      "Enter the number:  10\n",
      "Enter the number:  50\n",
      "Enter the number:  4\n",
      "Enter the number:  65\n"
     ]
    },
    {
     "name": "stdout",
     "output_type": "stream",
     "text": [
      "The sum is: 149\n",
      "The smallest value of entered numbers is 4\n"
     ]
    }
   ],
   "source": [
    "def main():\n",
    "    try:\n",
    "        # Ask the user for the number of values they want to enter\n",
    "        num_values = int(input(\"Enter the number of values to be input: \"))\n",
    "        total_sum = 0\n",
    "        smallest_value = None\n",
    "        for i in range(num_values):\n",
    "            number = int(input(\"Enter the number: \"))\n",
    "            total_sum += number\n",
    "            if smallest_value is None or number < smallest_value:\n",
    "                smallest_value = number\n",
    "        print(f\"The sum is: {total_sum}\")\n",
    "        print(f\"The smallest value of entered numbers is {smallest_value}\")\n",
    "\n",
    "    except ValueError:\n",
    "        print(\"Invalid input. Please enter integer values.\")\n",
    "\n",
    "if __name__ == \"__main__\":\n",
    "    main()\n"
   ]
  },
  {
   "cell_type": "code",
   "execution_count": null,
   "id": "e0bf67bd-2f7d-42d7-ac65-21c0c24d74c5",
   "metadata": {},
   "outputs": [],
   "source": [
    "# The factorial function is used frequently in probability problems. The factorial of a positive\n",
    "# integer n (written n! and pronounced “n factorial”) is equal to the product of the positive integers  from 1 to n.\n",
    "# Write a function factorial that accepts an integer as parameter and returns its factorial.\n",
    "# Using the factorial function, write a program that evaluates the factorials of the integers from 1 to 5.\n",
    "# Print the results in tabular format as following.\n"
   ]
  },
  {
   "cell_type": "code",
   "execution_count": 3,
   "id": "87fa455d-24d2-4ef1-9165-ab4f83fda13c",
   "metadata": {},
   "outputs": [
    {
     "name": "stdout",
     "output_type": "stream",
     "text": [
      "n\t n!\n",
      "------------\n",
      "1\t 1\n",
      "2\t 2\n",
      "3\t 6\n",
      "4\t 24\n",
      "5\t 120\n"
     ]
    }
   ],
   "source": [
    "def factorial(n):\n",
    "    \"\"\"Calculate and return the factorial of a positive integer n.\"\"\"\n",
    "    if n == 0 or n == 1:\n",
    "        return 1\n",
    "    else:\n",
    "        result = 1\n",
    "        for i in range(2, n + 1):\n",
    "            result *= i\n",
    "        return result\n",
    "\n",
    "def main():\n",
    "    print(\"n\\t n!\")\n",
    "    print(\"------------\")\n",
    "    for i in range(1, 6):\n",
    "        print(f\"{i}\\t {factorial(i)}\")\n",
    "\n",
    "if __name__ == \"__main__\":\n",
    "    main()\n"
   ]
  },
  {
   "cell_type": "code",
   "execution_count": null,
   "id": "3c903586-5eba-43bd-9a67-a1ec0f326afc",
   "metadata": {},
   "outputs": [],
   "source": [
    "#  Write a program that plays an incredibly stupid number-guessing game. The user will try to\n",
    "guess the secret number until they get it right. That means it will keep looping as long as the guess is\n",
    "different from the secret number. You must store the secret number in a variable, and use that\n",
    "variable throughout. The secret number itself must not appear in the program at all, except in the\n",
    "one line where you store it into a variable. "
   ]
  },
  {
   "cell_type": "code",
   "execution_count": 1,
   "id": "8e8604a9-cece-42c6-a0aa-a24b689cb995",
   "metadata": {},
   "outputs": [
    {
     "name": "stdout",
     "output_type": "stream",
     "text": [
      "Welcome to the Number Guessing Game!\n",
      "I'm thinking of a number between 1 and 10.\n"
     ]
    },
    {
     "name": "stdin",
     "output_type": "stream",
     "text": [
      "Enter your guess:  5\n"
     ]
    },
    {
     "name": "stdout",
     "output_type": "stream",
     "text": [
      "Nope, try again!\n"
     ]
    },
    {
     "name": "stdin",
     "output_type": "stream",
     "text": [
      "Enter your guess:  4\n"
     ]
    },
    {
     "name": "stdout",
     "output_type": "stream",
     "text": [
      "Nope, try again!\n"
     ]
    },
    {
     "name": "stdin",
     "output_type": "stream",
     "text": [
      "Enter your guess:  8\n"
     ]
    },
    {
     "name": "stdout",
     "output_type": "stream",
     "text": [
      "Nope, try again!\n"
     ]
    },
    {
     "name": "stdin",
     "output_type": "stream",
     "text": [
      "Enter your guess:  6\n"
     ]
    },
    {
     "name": "stdout",
     "output_type": "stream",
     "text": [
      "Congratulations! You guessed the right number!\n"
     ]
    }
   ],
   "source": [
    "def main():\n",
    "    secret_number = 6 \n",
    "    print(\"Welcome to the Number Guessing Game!\")\n",
    "    print(\"I'm thinking of a number between 1 and 10.\")\n",
    "    while True:\n",
    "        guess = int(input(\"Enter your guess: \"))\n",
    "        if guess == secret_number:\n",
    "            print(\"Congratulations! You guessed the right number!\")\n",
    "            break\n",
    "        else:\n",
    "            print(\"Nope, try again!\")\n",
    "\n",
    "if __name__ == \"__main__\":\n",
    "    main()\n"
   ]
  },
  {
   "cell_type": "code",
   "execution_count": null,
   "id": "ca91c924-5a12-4d17-9386-a311347bb9fb",
   "metadata": {},
   "outputs": [],
   "source": [
    "# The greatest common divisor (GCD) of two integers is the largest integer that evenly divides each of the two numbers. \n",
    "# Write function gcd that returns the greatest common divisor of two integers."
   ]
  },
  {
   "cell_type": "code",
   "execution_count": 3,
   "id": "b784e15f-15b2-467b-916e-591fd43f0d6a",
   "metadata": {},
   "outputs": [
    {
     "name": "stdin",
     "output_type": "stream",
     "text": [
      "Enter the first integer:  75\n",
      "Enter the second integer:  225\n"
     ]
    },
    {
     "name": "stdout",
     "output_type": "stream",
     "text": [
      "The greatest common divisor of 75 and 225 is 75.\n"
     ]
    }
   ],
   "source": [
    "def gcd(a, b):\n",
    "    \"\"\"Return the greatest common divisor of two integers a and b using the Euclidean algorithm.\"\"\"\n",
    "    while b != 0:\n",
    "        a, b = b, a % b\n",
    "    return a\n",
    "\n",
    "def main():\n",
    "    num1 = int(input(\"Enter the first integer: \"))\n",
    "    num2 = int(input(\"Enter the second integer: \"))\n",
    "\n",
    "    result = gcd(num1, num2)\n",
    "    print(f\"The greatest common divisor of {num1} and {num2} is {result}.\")\n",
    "\n",
    "if __name__ == \"__main__\":\n",
    "    main()\n"
   ]
  },
  {
   "cell_type": "code",
   "execution_count": 5,
   "id": "a7ce8d39-cdcc-4040-9858-b63723c9b122",
   "metadata": {},
   "outputs": [
    {
     "name": "stdin",
     "output_type": "stream",
     "text": [
      "Enter the first integer:  99\n",
      "Enter the second integer:  30\n"
     ]
    },
    {
     "name": "stdout",
     "output_type": "stream",
     "text": [
      "The greatest common divisor of 99 and 30 is 3.\n"
     ]
    }
   ],
   "source": [
    "def gcd(a, b):\n",
    "    \"\"\"Return the greatest common divisor of two integers a and b using the Euclidean algorithm.\"\"\"\n",
    "    while b != 0:\n",
    "        a, b = b, a % b\n",
    "    return a\n",
    "\n",
    "def main():\n",
    "    num1 = int(input(\"Enter the first integer: \"))\n",
    "    num2 = int(input(\"Enter the second integer: \"))\n",
    "\n",
    "    result = gcd(num1, num2)\n",
    "    print(f\"The greatest common divisor of {num1} and {num2} is {result}.\")\n",
    "\n",
    "if __name__ == \"__main__\":\n",
    "    main()"
   ]
  },
  {
   "cell_type": "code",
   "execution_count": 1,
   "id": "0716045e-0dc1-4b53-b367-4f1839fdea10",
   "metadata": {},
   "outputs": [
    {
     "name": "stdin",
     "output_type": "stream",
     "text": [
      "Enter the first integer:  17\n",
      "Enter the second integer:  22\n"
     ]
    },
    {
     "name": "stdout",
     "output_type": "stream",
     "text": [
      "The greatest common divisor of 17 and 22 is 1.\n"
     ]
    }
   ],
   "source": [
    "def gcd(a, b):\n",
    "    \"\"\"Return the greatest common divisor of two integers a and b using the Euclidean algorithm.\"\"\"\n",
    "    while b != 0:\n",
    "        a, b = b, a % b\n",
    "    return a\n",
    "\n",
    "def main():\n",
    "    num1 = int(input(\"Enter the first integer: \"))\n",
    "    num2 = int(input(\"Enter the second integer: \"))\n",
    "\n",
    "    result = gcd(num1, num2)\n",
    "    print(f\"The greatest common divisor of {num1} and {num2} is {result}.\")\n",
    "\n",
    "if __name__ == \"__main__\":\n",
    "    main()"
   ]
  },
  {
   "cell_type": "code",
   "execution_count": 3,
   "id": "9903d70f-644a-457f-a0db-b7176efe6a63",
   "metadata": {},
   "outputs": [
    {
     "name": "stdin",
     "output_type": "stream",
     "text": [
      "Enter the first integer:  100\n",
      "Enter the second integer:  99\n"
     ]
    },
    {
     "name": "stdout",
     "output_type": "stream",
     "text": [
      "The greatest common divisor of 100 and 99 is 1.\n"
     ]
    }
   ],
   "source": [
    "def gcd(a, b):\n",
    "    \"\"\"Return the greatest common divisor of two integers a and b using the Euclidean algorithm.\"\"\"\n",
    "    while b != 0:\n",
    "        a, b = b, a % b\n",
    "    return a\n",
    "\n",
    "def main():\n",
    "    num1 = int(input(\"Enter the first integer: \"))\n",
    "    num2 = int(input(\"Enter the second integer: \"))\n",
    "\n",
    "    result = gcd(num1, num2)\n",
    "    print(f\"The greatest common divisor of {num1} and {num2} is {result}.\")\n",
    "\n",
    "if __name__ == \"__main__\":\n",
    "    main()"
   ]
  },
  {
   "cell_type": "code",
   "execution_count": 5,
   "id": "ca9c131c-0320-4756-b36b-7f15d7e07f78",
   "metadata": {},
   "outputs": [
    {
     "name": "stdin",
     "output_type": "stream",
     "text": [
      "Enter the first integer:  10005\n",
      "Enter the second integer:  15\n"
     ]
    },
    {
     "name": "stdout",
     "output_type": "stream",
     "text": [
      "The greatest common divisor of 10005 and 15 is 15.\n"
     ]
    }
   ],
   "source": [
    "def gcd(a, b):\n",
    "    \"\"\"Return the greatest common divisor of two integers a and b using the Euclidean algorithm.\"\"\"\n",
    "    while b != 0:\n",
    "        a, b = b, a % b\n",
    "    return a\n",
    "\n",
    "def main():\n",
    "    num1 = int(input(\"Enter the first integer: \"))\n",
    "    num2 = int(input(\"Enter the second integer: \"))\n",
    "\n",
    "    result = gcd(num1, num2)\n",
    "    print(f\"The greatest common divisor of {num1} and {num2} is {result}.\")\n",
    "\n",
    "if __name__ == \"__main__\":\n",
    "    main()"
   ]
  },
  {
   "cell_type": "code",
   "execution_count": null,
   "id": "60837719-a3b2-4fb5-b4ad-cf94d5a783a4",
   "metadata": {},
   "outputs": [],
   "source": [
    "# An integer is said to be prime if it is divisible only by 1 and itself. For example, 2, 3, 5 and 7 are prime, but 4, 6, 8 and 9 are not.\n",
    "a) Write a function that determines if a number is prime.\n",
    "b) Use this function in a program that determines and prints all the prime numbers between 1 and 10,000."
   ]
  },
  {
   "cell_type": "code",
   "execution_count": 7,
   "id": "34ca3d9c-e168-4ee1-9a82-31d33d8b7cab",
   "metadata": {},
   "outputs": [
    {
     "name": "stdout",
     "output_type": "stream",
     "text": [
      "Prime numbers between 1 and 10,000 are:\n",
      "2 3 5 7 11 13 17 19 23 29 31 37 41 43 47 53 59 61 67 71 73 79 83 89 97 101 103 107 109 113 127 131 137 139 149 151 157 163 167 173 179 181 191 193 197 199 211 223 227 229 233 239 241 251 257 263 269 271 277 281 283 293 307 311 313 317 331 337 347 349 353 359 367 373 379 383 389 397 401 409 419 421 431 433 439 443 449 457 461 463 467 479 487 491 499 503 509 521 523 541 547 557 563 569 571 577 587 593 599 601 607 613 617 619 631 641 643 647 653 659 661 673 677 683 691 701 709 719 727 733 739 743 751 757 761 769 773 787 797 809 811 821 823 827 829 839 853 857 859 863 877 881 883 887 907 911 919 929 937 941 947 953 967 971 977 983 991 997 1009 1013 1019 1021 1031 1033 1039 1049 1051 1061 1063 1069 1087 1091 1093 1097 1103 1109 1117 1123 1129 1151 1153 1163 1171 1181 1187 1193 1201 1213 1217 1223 1229 1231 1237 1249 1259 1277 1279 1283 1289 1291 1297 1301 1303 1307 1319 1321 1327 1361 1367 1373 1381 1399 1409 1423 1427 1429 1433 1439 1447 1451 1453 1459 1471 1481 1483 1487 1489 1493 1499 1511 1523 1531 1543 1549 1553 1559 1567 1571 1579 1583 1597 1601 1607 1609 1613 1619 1621 1627 1637 1657 1663 1667 1669 1693 1697 1699 1709 1721 1723 1733 1741 1747 1753 1759 1777 1783 1787 1789 1801 1811 1823 1831 1847 1861 1867 1871 1873 1877 1879 1889 1901 1907 1913 1931 1933 1949 1951 1973 1979 1987 1993 1997 1999 2003 2011 2017 2027 2029 2039 2053 2063 2069 2081 2083 2087 2089 2099 2111 2113 2129 2131 2137 2141 2143 2153 2161 2179 2203 2207 2213 2221 2237 2239 2243 2251 2267 2269 2273 2281 2287 2293 2297 2309 2311 2333 2339 2341 2347 2351 2357 2371 2377 2381 2383 2389 2393 2399 2411 2417 2423 2437 2441 2447 2459 2467 2473 2477 2503 2521 2531 2539 2543 2549 2551 2557 2579 2591 2593 2609 2617 2621 2633 2647 2657 2659 2663 2671 2677 2683 2687 2689 2693 2699 2707 2711 2713 2719 2729 2731 2741 2749 2753 2767 2777 2789 2791 2797 2801 2803 2819 2833 2837 2843 2851 2857 2861 2879 2887 2897 2903 2909 2917 2927 2939 2953 2957 2963 2969 2971 2999 3001 3011 3019 3023 3037 3041 3049 3061 3067 3079 3083 3089 3109 3119 3121 3137 3163 3167 3169 3181 3187 3191 3203 3209 3217 3221 3229 3251 3253 3257 3259 3271 3299 3301 3307 3313 3319 3323 3329 3331 3343 3347 3359 3361 3371 3373 3389 3391 3407 3413 3433 3449 3457 3461 3463 3467 3469 3491 3499 3511 3517 3527 3529 3533 3539 3541 3547 3557 3559 3571 3581 3583 3593 3607 3613 3617 3623 3631 3637 3643 3659 3671 3673 3677 3691 3697 3701 3709 3719 3727 3733 3739 3761 3767 3769 3779 3793 3797 3803 3821 3823 3833 3847 3851 3853 3863 3877 3881 3889 3907 3911 3917 3919 3923 3929 3931 3943 3947 3967 3989 4001 4003 4007 4013 4019 4021 4027 4049 4051 4057 4073 4079 4091 4093 4099 4111 4127 4129 4133 4139 4153 4157 4159 4177 4201 4211 4217 4219 4229 4231 4241 4243 4253 4259 4261 4271 4273 4283 4289 4297 4327 4337 4339 4349 4357 4363 4373 4391 4397 4409 4421 4423 4441 4447 4451 4457 4463 4481 4483 4493 4507 4513 4517 4519 4523 4547 4549 4561 4567 4583 4591 4597 4603 4621 4637 4639 4643 4649 4651 4657 4663 4673 4679 4691 4703 4721 4723 4729 4733 4751 4759 4783 4787 4789 4793 4799 4801 4813 4817 4831 4861 4871 4877 4889 4903 4909 4919 4931 4933 4937 4943 4951 4957 4967 4969 4973 4987 4993 4999 5003 5009 5011 5021 5023 5039 5051 5059 5077 5081 5087 5099 5101 5107 5113 5119 5147 5153 5167 5171 5179 5189 5197 5209 5227 5231 5233 5237 5261 5273 5279 5281 5297 5303 5309 5323 5333 5347 5351 5381 5387 5393 5399 5407 5413 5417 5419 5431 5437 5441 5443 5449 5471 5477 5479 5483 5501 5503 5507 5519 5521 5527 5531 5557 5563 5569 5573 5581 5591 5623 5639 5641 5647 5651 5653 5657 5659 5669 5683 5689 5693 5701 5711 5717 5737 5741 5743 5749 5779 5783 5791 5801 5807 5813 5821 5827 5839 5843 5849 5851 5857 5861 5867 5869 5879 5881 5897 5903 5923 5927 5939 5953 5981 5987 6007 6011 6029 6037 6043 6047 6053 6067 6073 6079 6089 6091 6101 6113 6121 6131 6133 6143 6151 6163 6173 6197 6199 6203 6211 6217 6221 6229 6247 6257 6263 6269 6271 6277 6287 6299 6301 6311 6317 6323 6329 6337 6343 6353 6359 6361 6367 6373 6379 6389 6397 6421 6427 6449 6451 6469 6473 6481 6491 6521 6529 6547 6551 6553 6563 6569 6571 6577 6581 6599 6607 6619 6637 6653 6659 6661 6673 6679 6689 6691 6701 6703 6709 6719 6733 6737 6761 6763 6779 6781 6791 6793 6803 6823 6827 6829 6833 6841 6857 6863 6869 6871 6883 6899 6907 6911 6917 6947 6949 6959 6961 6967 6971 6977 6983 6991 6997 7001 7013 7019 7027 7039 7043 7057 7069 7079 7103 7109 7121 7127 7129 7151 7159 7177 7187 7193 7207 7211 7213 7219 7229 7237 7243 7247 7253 7283 7297 7307 7309 7321 7331 7333 7349 7351 7369 7393 7411 7417 7433 7451 7457 7459 7477 7481 7487 7489 7499 7507 7517 7523 7529 7537 7541 7547 7549 7559 7561 7573 7577 7583 7589 7591 7603 7607 7621 7639 7643 7649 7669 7673 7681 7687 7691 7699 7703 7717 7723 7727 7741 7753 7757 7759 7789 7793 7817 7823 7829 7841 7853 7867 7873 7877 7879 7883 7901 7907 7919 7927 7933 7937 7949 7951 7963 7993 8009 8011 8017 8039 8053 8059 8069 8081 8087 8089 8093 8101 8111 8117 8123 8147 8161 8167 8171 8179 8191 8209 8219 8221 8231 8233 8237 8243 8263 8269 8273 8287 8291 8293 8297 8311 8317 8329 8353 8363 8369 8377 8387 8389 8419 8423 8429 8431 8443 8447 8461 8467 8501 8513 8521 8527 8537 8539 8543 8563 8573 8581 8597 8599 8609 8623 8627 8629 8641 8647 8663 8669 8677 8681 8689 8693 8699 8707 8713 8719 8731 8737 8741 8747 8753 8761 8779 8783 8803 8807 8819 8821 8831 8837 8839 8849 8861 8863 8867 8887 8893 8923 8929 8933 8941 8951 8963 8969 8971 8999 9001 9007 9011 9013 9029 9041 9043 9049 9059 9067 9091 9103 9109 9127 9133 9137 9151 9157 9161 9173 9181 9187 9199 9203 9209 9221 9227 9239 9241 9257 9277 9281 9283 9293 9311 9319 9323 9337 9341 9343 9349 9371 9377 9391 9397 9403 9413 9419 9421 9431 9433 9437 9439 9461 9463 9467 9473 9479 9491 9497 9511 9521 9533 9539 9547 9551 9587 9601 9613 9619 9623 9629 9631 9643 9649 9661 9677 9679 9689 9697 9719 9721 9733 9739 9743 9749 9767 9769 9781 9787 9791 9803 9811 9817 9829 9833 9839 9851 9857 9859 9871 9883 9887 9901 9907 9923 9929 9931 9941 9949 9967 9973 "
     ]
    }
   ],
   "source": [
    "import math\n",
    "\n",
    "def is_prime(n):\n",
    "    \"\"\"Determine if n is a prime number.\"\"\"\n",
    "    if n <= 1:\n",
    "        return False\n",
    "    if n <= 3:\n",
    "        return True\n",
    "    if n % 2 == 0 or n % 3 == 0:\n",
    "        return False\n",
    "    i = 5\n",
    "    while i * i <= n:\n",
    "        if n % i == 0 or n % (i + 2) == 0:\n",
    "            return False\n",
    "        i += 6\n",
    "    return True\n",
    "\n",
    "def main():\n",
    "    print(\"Prime numbers between 1 and 10,000 are:\")\n",
    "    for number in range(1, 10001):\n",
    "        if is_prime(number):\n",
    "            print(number, end=\" \")\n",
    "\n",
    "if __name__ == \"__main__\":\n",
    "    main()\n"
   ]
  },
  {
   "cell_type": "code",
   "execution_count": null,
   "id": "ec435d7e-d840-4f6e-9dab-d75ad54a857b",
   "metadata": {},
   "outputs": [],
   "source": [
    "# Write a code that prints on screen all the 4-digit Armstrong numbers."
   ]
  },
  {
   "cell_type": "code",
   "execution_count": 9,
   "id": "278091dc-bda0-4302-b533-3cdc4da82c8e",
   "metadata": {},
   "outputs": [
    {
     "name": "stdout",
     "output_type": "stream",
     "text": [
      "The 4-digit Armstrong numbers are:\n",
      "1634 8208 9474 "
     ]
    }
   ],
   "source": [
    "def is_armstrong(number):\n",
    "    \"\"\"Check if a 4-digit number is an Armstrong number.\"\"\"\n",
    "    digits = [int(d) for d in str(number)]\n",
    "    power = len(digits)\n",
    "    return number == sum(d ** power for d in digits)\n",
    "\n",
    "def main():\n",
    "    print(\"The 4-digit Armstrong numbers are:\")\n",
    "    for num in range(1000, 10000):\n",
    "        if is_armstrong(num):\n",
    "            print(num, end=\" \")\n",
    "\n",
    "if __name__ == \"__main__\":\n",
    "    main()\n"
   ]
  },
  {
   "cell_type": "code",
   "execution_count": null,
   "id": "4f9f9ef4-849d-4737-88d8-9ae6259d699c",
   "metadata": {},
   "outputs": [],
   "source": [
    "# Write a program that prints out a list of the integers from 1 to 20 and their squares. \n"
   ]
  },
  {
   "cell_type": "code",
   "execution_count": 11,
   "id": "763b7643-17cf-444c-9aa0-58697b9e2ab7",
   "metadata": {},
   "outputs": [
    {
     "name": "stdout",
     "output_type": "stream",
     "text": [
      "1: Aqsa Essa\n",
      "2: Aqsa Essa\n",
      "3: Aqsa Essa\n",
      "4: Aqsa Essa\n",
      "5: Aqsa Essa\n",
      "6: Aqsa Essa\n",
      "7: Aqsa Essa\n",
      "8: Aqsa Essa\n",
      "9: Aqsa Essa\n",
      "10: Aqsa Essa\n",
      "11: Aqsa Essa\n",
      "12: Aqsa Essa\n",
      "13: Aqsa Essa\n",
      "14: Aqsa Essa\n",
      "15: Aqsa Essa\n",
      "16: Aqsa Essa\n",
      "17: Aqsa Essa\n",
      "18: Aqsa Essa\n",
      "19: Aqsa Essa\n",
      "20: Aqsa Essa\n",
      "21: Aqsa Essa\n",
      "22: Aqsa Essa\n",
      "23: Aqsa Essa\n",
      "24: Aqsa Essa\n",
      "25: Aqsa Essa\n",
      "26: Aqsa Essa\n",
      "27: Aqsa Essa\n",
      "28: Aqsa Essa\n",
      "29: Aqsa Essa\n",
      "30: Aqsa Essa\n",
      "31: Aqsa Essa\n",
      "32: Aqsa Essa\n",
      "33: Aqsa Essa\n",
      "34: Aqsa Essa\n",
      "35: Aqsa Essa\n",
      "36: Aqsa Essa\n",
      "37: Aqsa Essa\n",
      "38: Aqsa Essa\n",
      "39: Aqsa Essa\n",
      "40: Aqsa Essa\n",
      "41: Aqsa Essa\n",
      "42: Aqsa Essa\n",
      "43: Aqsa Essa\n",
      "44: Aqsa Essa\n",
      "45: Aqsa Essa\n",
      "46: Aqsa Essa\n",
      "47: Aqsa Essa\n",
      "48: Aqsa Essa\n",
      "49: Aqsa Essa\n",
      "50: Aqsa Essa\n",
      "51: Aqsa Essa\n",
      "52: Aqsa Essa\n",
      "53: Aqsa Essa\n",
      "54: Aqsa Essa\n",
      "55: Aqsa Essa\n",
      "56: Aqsa Essa\n",
      "57: Aqsa Essa\n",
      "58: Aqsa Essa\n",
      "59: Aqsa Essa\n",
      "60: Aqsa Essa\n",
      "61: Aqsa Essa\n",
      "62: Aqsa Essa\n",
      "63: Aqsa Essa\n",
      "64: Aqsa Essa\n",
      "65: Aqsa Essa\n",
      "66: Aqsa Essa\n",
      "67: Aqsa Essa\n",
      "68: Aqsa Essa\n",
      "69: Aqsa Essa\n",
      "70: Aqsa Essa\n",
      "71: Aqsa Essa\n",
      "72: Aqsa Essa\n",
      "73: Aqsa Essa\n",
      "74: Aqsa Essa\n",
      "75: Aqsa Essa\n",
      "76: Aqsa Essa\n",
      "77: Aqsa Essa\n",
      "78: Aqsa Essa\n",
      "79: Aqsa Essa\n",
      "80: Aqsa Essa\n",
      "81: Aqsa Essa\n",
      "82: Aqsa Essa\n",
      "83: Aqsa Essa\n",
      "84: Aqsa Essa\n",
      "85: Aqsa Essa\n",
      "86: Aqsa Essa\n",
      "87: Aqsa Essa\n",
      "88: Aqsa Essa\n",
      "89: Aqsa Essa\n",
      "90: Aqsa Essa\n",
      "91: Aqsa Essa\n",
      "92: Aqsa Essa\n",
      "93: Aqsa Essa\n",
      "94: Aqsa Essa\n",
      "95: Aqsa Essa\n",
      "96: Aqsa Essa\n",
      "97: Aqsa Essa\n",
      "98: Aqsa Essa\n",
      "99: Aqsa Essa\n",
      "100: Aqsa Essa\n"
     ]
    }
   ],
   "source": [
    "def main():\n",
    "    name = \"Aqsa Essa\"  \n",
    "    for i in range(1, 101):\n",
    "        print(f\"{i}: {name}\")\n",
    "\n",
    "if __name__ == \"__main__\":\n",
    "    main()"
   ]
  },
  {
   "cell_type": "code",
   "execution_count": null,
   "id": "c22d6a02-d217-4e2c-8c6b-3ea0d230a0cb",
   "metadata": {},
   "outputs": [],
   "source": [
    "# Write a program that prints out a list of the integers from 1 to 20 and their squares. "
   ]
  },
  {
   "cell_type": "code",
   "execution_count": 17,
   "id": "b364cf13-590a-45f4-88a5-ff0f697c6e23",
   "metadata": {},
   "outputs": [
    {
     "name": "stdout",
     "output_type": "stream",
     "text": [
      "Number\tSquare\n",
      "----------------\n",
      "1\t1\n",
      "2\t4\n",
      "3\t9\n",
      "4\t16\n",
      "5\t25\n",
      "6\t36\n",
      "7\t49\n",
      "8\t64\n",
      "9\t81\n",
      "10\t100\n",
      "11\t121\n",
      "12\t144\n",
      "13\t169\n",
      "14\t196\n",
      "15\t225\n",
      "16\t256\n",
      "17\t289\n",
      "18\t324\n",
      "19\t361\n",
      "20\t400\n"
     ]
    }
   ],
   "source": [
    "def main():\n",
    "    print(\"Number\\tSquare\")\n",
    "    print(\"----------------\")\n",
    "\n",
    "    for i in range(1, 21):\n",
    "        print(f\"{i}\\t{i**2}\")\n",
    "\n",
    "if __name__ == \"__main__\":\n",
    "    main()\n"
   ]
  },
  {
   "cell_type": "code",
   "execution_count": null,
   "id": "46e59eda-7b61-4bf1-b4c5-578db02eb27a",
   "metadata": {},
   "outputs": [],
   "source": [
    "#  Write a program that uses a for loop to print the numbers 8, 11, 14, 17, 20, . . . , 83, 86, 89.\n"
   ]
  },
  {
   "cell_type": "code",
   "execution_count": 19,
   "id": "e4e8e3a8-90df-4c68-b243-c00ddf0b0c61",
   "metadata": {},
   "outputs": [
    {
     "name": "stdout",
     "output_type": "stream",
     "text": [
      "8, 11, 14, 17, 20, 23, 26, 29, 32, 35, 38, 41, 44, 47, 50, 53, 56, 59, 62, 65, 68, 71, 74, 77, 80, 83, 86, 89\n"
     ]
    }
   ],
   "source": [
    "def main():\n",
    "    start = 8\n",
    "    end = 89\n",
    "    step = 3\n",
    "    for number in range(start, end + 1, step):\n",
    "        print(number, end=\", \" if number < end else \"\\n\")\n",
    "if __name__ == \"__main__\":\n",
    "    main()"
   ]
  },
  {
   "cell_type": "code",
   "execution_count": null,
   "id": "d266043f-d91c-449f-aaf3-0fd52f9223ce",
   "metadata": {},
   "outputs": [],
   "source": [
    "#  Write a program that asks the user for their name and how many times to print it. \n",
    "#  The program should print out the user’s name the specified number of times."
   ]
  },
  {
   "cell_type": "code",
   "execution_count": 23,
   "id": "ea7b6324-5c05-491c-9903-dc206455f83c",
   "metadata": {},
   "outputs": [
    {
     "name": "stdin",
     "output_type": "stream",
     "text": [
      "Enter your name:  Aqsa Essa\n",
      "How many times do you want to print your name?  3\n"
     ]
    },
    {
     "name": "stdout",
     "output_type": "stream",
     "text": [
      "Aqsa Essa\n",
      "Aqsa Essa\n",
      "Aqsa Essa\n"
     ]
    }
   ],
   "source": [
    "def main():\n",
    "    name = input(\"Enter your name: \")\n",
    "    try:\n",
    "        times = int(input(\"How many times do you want to print your name? \"))\n",
    "        for _ in range(times):\n",
    "            print(name)\n",
    "    except ValueError:\n",
    "        print(\"Invalid input. Please enter a valid integer for the number of times.\")\n",
    "if __name__ == \"__main__\":\n",
    "    main()"
   ]
  },
  {
   "cell_type": "code",
   "execution_count": null,
   "id": "a166cc12-f78a-4cae-b00f-9351101adfdb",
   "metadata": {},
   "outputs": [],
   "source": [
    "# Use a for loop to print a box like the one below.\n",
    "# Allow the user to specify how wide and how high the box should be."
   ]
  },
  {
   "cell_type": "code",
   "execution_count": 25,
   "id": "d8ad6b44-0daa-4894-a5f3-58c1c49301c9",
   "metadata": {},
   "outputs": [
    {
     "name": "stdin",
     "output_type": "stream",
     "text": [
      "Enter the width of the box:  19\n",
      "Enter the height of the box:  4\n"
     ]
    },
    {
     "name": "stdout",
     "output_type": "stream",
     "text": [
      "*******************\n",
      "*******************\n",
      "*******************\n",
      "*******************\n"
     ]
    }
   ],
   "source": [
    "def print_box(width, height):\n",
    "    \"\"\"Prints a box with the specified width and height.\"\"\"\n",
    "    for i in range(height):\n",
    "        print('*' * width)\n",
    "\n",
    "def main():\n",
    "    try:\n",
    "        width = int(input(\"Enter the width of the box: \"))\n",
    "        height = int(input(\"Enter the height of the box: \"))\n",
    "        if width <= 0 or height <= 0:\n",
    "            print(\"Width and height must be positive integers.\")\n",
    "        else:\n",
    "            print_box(width, height)\n",
    "    \n",
    "    except ValueError:\n",
    "        print(\"Invalid input. Please enter positive integers for width and height.\")\n",
    "\n",
    "if __name__ == \"__main__\":\n",
    "    main()"
   ]
  },
  {
   "cell_type": "code",
   "execution_count": null,
   "id": "9bf61a1f-9162-459a-8eda-debf04877d5d",
   "metadata": {},
   "outputs": [],
   "source": [
    "# Use a for loop to print a triangle like the one below.\n",
    "# Allow the user to specify how high the triangle should be."
   ]
  },
  {
   "cell_type": "code",
   "execution_count": 27,
   "id": "1f28b265-5dd7-4ead-91b7-6799cf7e75d8",
   "metadata": {},
   "outputs": [
    {
     "name": "stdin",
     "output_type": "stream",
     "text": [
      "Enter the height of the triangle:  4\n"
     ]
    },
    {
     "name": "stdout",
     "output_type": "stream",
     "text": [
      "*\n",
      "**\n",
      "***\n",
      "****\n"
     ]
    }
   ],
   "source": [
    "def print_triangle(height):\n",
    "    \"\"\"Prints a right-angled triangle with the specified height.\"\"\"\n",
    "    for i in range(1, height + 1):\n",
    "        print('*' * i)\n",
    "\n",
    "def main():\n",
    "    try:\n",
    "        height = int(input(\"Enter the height of the triangle: \"))\n",
    "        if height <= 0:\n",
    "            print(\"Height must be a positive integer.\")\n",
    "        else:\n",
    "            print_triangle(height)\n",
    "    \n",
    "    except ValueError:\n",
    "        print(\"Invalid input. Please enter a positive integer for the height.\")\n",
    "\n",
    "if __name__ == \"__main__\":\n",
    "    main()"
   ]
  },
  {
   "cell_type": "code",
   "execution_count": null,
   "id": "650dd4d5-ed85-43b4-b37c-3de8788ea658",
   "metadata": {},
   "outputs": [],
   "source": [
    "# Use for loops to print a diamond like the one below. \n",
    "# Allow the user to specify how high the diamond should be."
   ]
  },
  {
   "cell_type": "code",
   "execution_count": 31,
   "id": "7fe460ab-6350-4036-9496-4ec23d622ae8",
   "metadata": {},
   "outputs": [
    {
     "name": "stdin",
     "output_type": "stream",
     "text": [
      "Enter the height of the diamond (odd number):  7\n"
     ]
    },
    {
     "name": "stdout",
     "output_type": "stream",
     "text": [
      "   *\n",
      "  ***\n",
      " *****\n",
      "*******\n",
      " *****\n",
      "  ***\n",
      "   *\n"
     ]
    }
   ],
   "source": [
    "def print_diamond(height):\n",
    "    \"\"\"Prints a diamond with the specified height.\"\"\"\n",
    "    if height % 2 == 0:\n",
    "        print(\"Height must be an odd number to form a symmetrical diamond.\")\n",
    "        return\n",
    "\n",
    "    mid_point = height // 2\n",
    "    for i in range(mid_point + 1):\n",
    "        print(' ' * (mid_point - i) + '*' * (2 * i + 1))\n",
    "    for i in range(mid_point - 1, -1, -1):\n",
    "        print(' ' * (mid_point - i) + '*' * (2 * i + 1))\n",
    "\n",
    "def main():\n",
    "    try:\n",
    "        height = int(input(\"Enter the height of the diamond (odd number): \"))\n",
    "        if height <= 0:\n",
    "            print(\"Height must be a positive integer.\")\n",
    "        elif height % 2 == 0:\n",
    "            print(\"Height must be an odd number to form a symmetrical diamond.\")\n",
    "        else:\n",
    "            print_diamond(height)\n",
    "    except ValueError:\n",
    "        print(\"Invalid input. Please enter a positive integer for the height.\")\n",
    "if __name__ == \"__main__\":\n",
    "    main()"
   ]
  },
  {
   "cell_type": "code",
   "execution_count": null,
   "id": "2ee23021-e83f-4e95-8c3b-c1e1a7b4709f",
   "metadata": {},
   "outputs": [],
   "source": [
    "# Write a program that prints a giant letter A like the one below. \n",
    "# Allow the user to specify how large the letter should be."
   ]
  },
  {
   "cell_type": "code",
   "execution_count": 41,
   "id": "3545f083-eeb3-4e0e-976c-b24ca9283ce1",
   "metadata": {},
   "outputs": [
    {
     "name": "stdin",
     "output_type": "stream",
     "text": [
      "Enter the size of the giant letter A (at least 3):  6\n"
     ]
    },
    {
     "name": "stdout",
     "output_type": "stream",
     "text": [
      "******\n",
      "*    *\n",
      "*    *\n",
      "******\n",
      "*    *\n",
      "*    *\n"
     ]
    }
   ],
   "source": [
    "def print_large_A(size):\n",
    "    \"\"\"Prints a giant letter A with the specified size.\"\"\"\n",
    "    if size < 3:\n",
    "        print(\"Size must be at least 3.\")\n",
    "        return\n",
    "\n",
    "    for i in range(size):\n",
    "        if i == 0:\n",
    "            print('*' * size)\n",
    "        elif i < size // 2:\n",
    "            print('*' + ' ' * (size - 2) + '*')\n",
    "        elif i == size // 2:\n",
    "            print('*' * size)\n",
    "        else:\n",
    "            print('*' + ' ' * (size - 2) + '*')\n",
    "def main():\n",
    "    try:\n",
    "        size = int(input(\"Enter the size of the giant letter A (at least 3): \"))\n",
    "        if size < 3:\n",
    "            print(\"Size must be at least 3.\")\n",
    "        else:\n",
    "            print_large_A(size)    \n",
    "    except ValueError:\n",
    "        print(\"Invalid input. Please enter a positive integer for the size.\")\n",
    "if __name__ == \"__main__\":\n",
    "    main()"
   ]
  }
 ],
 "metadata": {
  "kernelspec": {
   "display_name": "Python 3 (ipykernel)",
   "language": "python",
   "name": "python3"
  },
  "language_info": {
   "codemirror_mode": {
    "name": "ipython",
    "version": 3
   },
   "file_extension": ".py",
   "mimetype": "text/x-python",
   "name": "python",
   "nbconvert_exporter": "python",
   "pygments_lexer": "ipython3",
   "version": "3.12.4"
  }
 },
 "nbformat": 4,
 "nbformat_minor": 5
}
