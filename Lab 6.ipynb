{
 "cells": [
  {
   "cell_type": "code",
   "execution_count": null,
   "id": "b7937fed-e866-46ce-bcf2-514dfa441a6f",
   "metadata": {},
   "outputs": [],
   "source": [
    "1. Write a Python class called Rectangle that has attributes length and width. Implement methods to calculate the area and perimeter of the rectangle."
   ]
  },
  {
   "cell_type": "code",
   "execution_count": 1,
   "id": "2a03b15d-584c-47a6-b1bf-72dc1cc15109",
   "metadata": {},
   "outputs": [
    {
     "name": "stdout",
     "output_type": "stream",
     "text": [
      "Area: 15\n",
      "Perimeter: 16\n"
     ]
    }
   ],
   "source": [
    "class Rectangle:\n",
    "    def __init__(self, length, width):\n",
    "        self.length = length\n",
    "        self.width = width\n",
    "\n",
    "    def area(self):\n",
    "        return self.length * self.width\n",
    "    \n",
    "    def perimeter(self):\n",
    "        return 2 * (self.length + self.width)\n",
    "\n",
    "rectangle = Rectangle(5, 3)\n",
    "print(f\"Area: {rectangle.area()}\")     \n",
    "print(f\"Perimeter: {rectangle.perimeter()}\") "
   ]
  },
  {
   "cell_type": "code",
   "execution_count": null,
   "id": "8dd9ea7f-5104-45c0-896a-0f7f387089c5",
   "metadata": {},
   "outputs": [],
   "source": [
    "2.\tCreate a class hierarchy in Python consisting of a base class called Animal, and derived classes Dog, Cat, and Bird. \n",
    "    Each derived class should have its unique method. \n",
    "    Instantiate objects of each class and demonstrate polymorphism by calling a common method on each object.\n",
    "\n"
   ]
  },
  {
   "cell_type": "code",
   "execution_count": 3,
   "id": "d5962016-782a-426d-b659-ea9849bc9fab",
   "metadata": {},
   "outputs": [
    {
     "name": "stdout",
     "output_type": "stream",
     "text": [
      "Buddy says Woof!\n",
      "Whiskers says Meow!\n",
      "Tweety says Tweet!\n",
      "Buddy is fetching the ball!\n",
      "Whiskers is scratching the furniture!\n",
      "Tweety is flying high!\n"
     ]
    }
   ],
   "source": [
    "class Animal:\n",
    "    def __init__(self, name):\n",
    "        self.name = name\n",
    "    \n",
    "    def sound(self):\n",
    "        raise NotImplementedError(\"Subclasses must implement this method\")\n",
    "\n",
    "class Dog(Animal):\n",
    "    def sound(self):\n",
    "        return f\"{self.name} says Woof!\"\n",
    "    \n",
    "    def fetch(self):\n",
    "        return f\"{self.name} is fetching the ball!\"\n",
    "\n",
    "class Cat(Animal):\n",
    "    def sound(self):\n",
    "        return f\"{self.name} says Meow!\"\n",
    "    \n",
    "    def scratch(self):\n",
    "        return f\"{self.name} is scratching the furniture!\"\n",
    "\n",
    "class Bird(Animal):\n",
    "    def sound(self):\n",
    "        return f\"{self.name} says Tweet!\"\n",
    "    \n",
    "    def fly(self):\n",
    "        return f\"{self.name} is flying high!\"\n",
    "\n",
    "animals = [Dog(\"Buddy\"), Cat(\"Whiskers\"), Bird(\"Tweety\")]\n",
    "\n",
    "for animal in animals:\n",
    "    print(animal.sound())\n",
    "    \n",
    "print(animals[0].fetch())  \n",
    "print(animals[1].scratch()) \n",
    "print(animals[2].fly())"
   ]
  },
  {
   "cell_type": "code",
   "execution_count": null,
   "id": "efcbcf45-0195-4e85-9c72-6a6448b5ff37",
   "metadata": {},
   "outputs": [],
   "source": [
    "3.\tWrite a Python class called Shape with a method area() that returns the area of the shape. \n",
    "    Create two subclasses, Rectangle and Circle, each overriding the area() method to calculate the area of the specific shape. \n",
    "    Instantiate objects of each class and display their areas.\n",
    "\n"
   ]
  },
  {
   "cell_type": "code",
   "execution_count": 5,
   "id": "a5a6eb18-709d-4679-a587-3ed4f39be445",
   "metadata": {},
   "outputs": [
    {
     "name": "stdout",
     "output_type": "stream",
     "text": [
      "Rectangle area: 15\n",
      "Circle area: 50.27\n"
     ]
    }
   ],
   "source": [
    "import math\n",
    "\n",
    "# Base class\n",
    "class Shape:\n",
    "    def area(self):\n",
    "        raise NotImplementedError(\"Subclasses must implement this method\")\n",
    "class Rectangle(Shape):\n",
    "    def __init__(self, length, width):\n",
    "        self.length = length\n",
    "        self.width = width\n",
    "    \n",
    "    def area(self):\n",
    "        return self.length * self.width\n",
    "class Circle(Shape):\n",
    "    def __init__(self, radius):\n",
    "        self.radius = radius\n",
    "    \n",
    "    def area(self):\n",
    "        return math.pi * (self.radius ** 2)\n",
    "rectangle = Rectangle(5, 3)\n",
    "circle = Circle(4)\n",
    "\n",
    "print(f\"Rectangle area: {rectangle.area()}\")  \n",
    "print(f\"Circle area: {circle.area():.2f}\")  "
   ]
  }
 ],
 "metadata": {
  "kernelspec": {
   "display_name": "Python 3 (ipykernel)",
   "language": "python",
   "name": "python3"
  },
  "language_info": {
   "codemirror_mode": {
    "name": "ipython",
    "version": 3
   },
   "file_extension": ".py",
   "mimetype": "text/x-python",
   "name": "python",
   "nbconvert_exporter": "python",
   "pygments_lexer": "ipython3",
   "version": "3.12.4"
  }
 },
 "nbformat": 4,
 "nbformat_minor": 5
}
