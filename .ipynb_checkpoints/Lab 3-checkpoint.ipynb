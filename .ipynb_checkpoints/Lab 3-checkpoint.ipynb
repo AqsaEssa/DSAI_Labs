{
 "cells": [
  {
   "cell_type": "code",
   "execution_count": 1,
   "id": "27b48b7b-5446-47b6-92d0-f8ad2ebf4fcd",
   "metadata": {},
   "outputs": [
    {
     "name": "stdout",
     "output_type": "stream",
     "text": [
      "Hello world\n",
      "Hello world\n",
      "Hello world\n",
      "Hello world\n"
     ]
    }
   ],
   "source": [
    "for i in range(4):\n",
    "    print(\"Hello world\")"
   ]
  },
  {
   "cell_type": "code",
   "execution_count": 9,
   "id": "6258169c-9169-403a-9377-c454bf5eb983",
   "metadata": {},
   "outputs": [],
   "source": [
    "def sum_odd_integers(start,end):\n",
    "    total=0\n",
    "    for number in range (start,end+1):\n",
    "        if number % 2 != 0: \n",
    "            total += number \n",
    "            return total\n",
    "            result= sum_odd_integers(1,100)\n",
    "         "
   ]
  },
  {
   "cell_type": "code",
   "execution_count": 23,
   "id": "1ecdc144-84a2-44c6-bc5c-04afa8b1dec1",
   "metadata": {},
   "outputs": [
    {
     "name": "stdout",
     "output_type": "stream",
     "text": [
      "3\n",
      "3\n",
      "4\n",
      "5\n"
     ]
    }
   ],
   "source": [
    "list_1 = [2,2,3,4]\n",
    "for i in list_1:\n",
    "    print(i+1)"
   ]
  },
  {
   "cell_type": "code",
   "execution_count": 11,
   "id": "afb7ca7f-a8e8-43c1-9545-4d130f6f8983",
   "metadata": {},
   "outputs": [
    {
     "name": "stdout",
     "output_type": "stream",
     "text": [
      "good\n",
      "good\n",
      "good\n",
      "good\n",
      "good\n",
      "good\n",
      "good\n",
      "good\n",
      "good\n",
      "good\n"
     ]
    }
   ],
   "source": [
    "for i in range(100):\n",
    "    if i == 10:\n",
    "        break\n",
    "    else:\n",
    "        print(\"good\")"
   ]
  },
  {
   "cell_type": "code",
   "execution_count": 13,
   "id": "63f7046b-5704-4be2-8303-f8f8575ae1b5",
   "metadata": {},
   "outputs": [
    {
     "name": "stdout",
     "output_type": "stream",
     "text": [
      "counter value is: 0\n",
      "counter value is: 1\n",
      "counter value is: 2\n",
      "counter value is: 3\n",
      "counter value is: 4\n",
      "counter has reached 5. Breaking the loop.\n"
     ]
    }
   ],
   "source": [
    "counter = 0\n",
    "while True:\n",
    "    print(\"counter value is:\", counter)\n",
    "    counter += 1\n",
    "    if counter == 5:\n",
    "        print(\"counter has reached 5. Breaking the loop.\")\n",
    "        break\n",
    "        print(\"Loop has ended.\")"
   ]
  },
  {
   "cell_type": "code",
   "execution_count": 35,
   "id": "84e8cad4-4fbc-4591-a424-b7d185c342cf",
   "metadata": {},
   "outputs": [
    {
     "name": "stdout",
     "output_type": "stream",
     "text": [
      "0\n",
      "1\n",
      "2\n",
      "4\n"
     ]
    }
   ],
   "source": [
    "for i in range(5):\n",
    "    if i == 3:\n",
    "        continue\n",
    "    print(i)"
   ]
  },
  {
   "cell_type": "code",
   "execution_count": null,
   "id": "882cca83-0b7b-4ad3-8264-4d6852cadbb1",
   "metadata": {},
   "outputs": [],
   "source": []
  }
 ],
 "metadata": {
  "kernelspec": {
   "display_name": "Python 3 (ipykernel)",
   "language": "python",
   "name": "python3"
  },
  "language_info": {
   "codemirror_mode": {
    "name": "ipython",
    "version": 3
   },
   "file_extension": ".py",
   "mimetype": "text/x-python",
   "name": "python",
   "nbconvert_exporter": "python",
   "pygments_lexer": "ipython3",
   "version": "3.12.4"
  }
 },
 "nbformat": 4,
 "nbformat_minor": 5
}
